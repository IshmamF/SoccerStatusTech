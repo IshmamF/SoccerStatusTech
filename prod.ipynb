{
 "cells": [
  {
   "cell_type": "code",
   "execution_count": 12,
   "id": "b35c096c-1311-41ff-a1e0-76baa4206c66",
   "metadata": {},
   "outputs": [],
   "source": [
    "import pandas as pd\n",
    "import tensorflow as tf\n",
    "\n",
    "teams = {}\n",
    "teams_stats = {}\n",
    "for i in range(10, 17):\n",
    "    df = pd.read_csv(\"./archive-3/Datasets/20\" + str(i) + \"-\" + str(i + 1) + \".csv\")\n",
    "    cur_teams = set(df[\"HomeTeam\"].unique())\n",
    "    teams[i] = cur_teams\n",
    "    cur_teams_stats = {}\n",
    "    for team in cur_teams:\n",
    "        cur_teams_stats[team] = [0, 0, 0]\n",
    "    for index, row in df.iterrows():\n",
    "        cur_teams_stats[row[\"HomeTeam\"]][1] += row[\"FTHG\"]\n",
    "        cur_teams_stats[row[\"HomeTeam\"]][2] += row[\"FTAG\"]\n",
    "        cur_teams_stats[row[\"AwayTeam\"]][1] += row[\"FTAG\"]\n",
    "        cur_teams_stats[row[\"AwayTeam\"]][2] += row[\"FTHG\"]\n",
    "        if row[\"FTHG\"] > row[\"FTAG\"]:\n",
    "            cur_teams_stats[row[\"HomeTeam\"]][0] += 3\n",
    "        elif row[\"FTHG\"] == row[\"FTAG\"]:\n",
    "            cur_teams_stats[row[\"HomeTeam\"]][0] += 1\n",
    "            cur_teams_stats[row[\"AwayTeam\"]][0] += 1\n",
    "        else:\n",
    "            cur_teams_stats[row[\"AwayTeam\"]][0] += 3\n",
    "    teams_stats[i] = cur_teams_stats"
   ]
  },
  {
   "cell_type": "code",
   "execution_count": 13,
   "id": "547b240d-84b1-4a60-9847-63956690bc73",
   "metadata": {},
   "outputs": [],
   "source": [
    "df_train_test = pd.DataFrame(columns=[\"Home Team\", \"Away Team\",\n",
    "                                      \"Points Obtained Last Season\", \"Points Obtained by Opponent Last Season\",\n",
    "                                      \"Goals Scored Last Season\", \"Goals Conceded by Opponent Last Season\",\n",
    "                                      \"Goals Scored in Game\"])"
   ]
  },
  {
   "cell_type": "code",
   "execution_count": 14,
   "id": "d23d0e14-8fd8-4e4d-9b5d-9082a66b3c07",
   "metadata": {},
   "outputs": [
    {
     "name": "stdout",
     "output_type": "stream",
     "text": [
      "11 380\n",
      "12 380\n",
      "13 380\n",
      "14 380\n",
      "15 380\n",
      "16 380\n",
      "17 380\n"
     ]
    }
   ],
   "source": [
    "for i in range(11, 18):\n",
    "    df = pd.read_csv(\"./archive-3/Datasets/20\" + str(i) + \"-\" + str(i + 1) + \".csv\")\n",
    "    print(i, len(df))\n",
    "    for index, row in df.iterrows():\n",
    "        row1 = [1, 0, 38, 38, 38, 38, row[\"FTHG\"]]\n",
    "        if row1[-1] > 5:\n",
    "            row1[-1] = 5\n",
    "        row2 = [0, 1, 38, 38, 38, 38, row[\"FTAG\"]]\n",
    "        if row2[-1] > 5:\n",
    "            row2[-1] = 5\n",
    "        if row[\"HomeTeam\"] in teams[i - 1]:\n",
    "            row1[2] = teams_stats[i - 1][row[\"HomeTeam\"]][0]\n",
    "            row1[4] = teams_stats[i - 1][row[\"HomeTeam\"]][1]\n",
    "            row2[3] = teams_stats[i - 1][row[\"HomeTeam\"]][0]\n",
    "            row2[5] = teams_stats[i - 1][row[\"HomeTeam\"]][2]\n",
    "        if row[\"AwayTeam\"] in teams[i - 1]:\n",
    "            row1[3] = teams_stats[i - 1][row[\"AwayTeam\"]][0]\n",
    "            row1[5] = teams_stats[i - 1][row[\"AwayTeam\"]][2]\n",
    "            row2[2] = teams_stats[i - 1][row[\"AwayTeam\"]][0]\n",
    "            row2[4] = teams_stats[i - 1][row[\"AwayTeam\"]][1]\n",
    "        df_train_test.loc[-1] = row1  # adding a row\n",
    "        df_train_test.index = df_train_test.index + 1  # shifting index\n",
    "        df_train_test = df_train_test.sort_index()\n",
    "        df_train_test.loc[-1] = row2  # adding a row\n",
    "        df_train_test.index = df_train_test.index + 1  # shifting index\n",
    "        df_train_test = df_train_test.sort_index()         \n",
    "\n",
    "    \n",
    "    \n",
    "    "
   ]
  },
  {
   "cell_type": "code",
   "execution_count": 17,
   "id": "249da086-06d0-4512-bb73-0411596bc1db",
   "metadata": {},
   "outputs": [
    {
     "name": "stdout",
     "output_type": "stream",
     "text": [
      "4560\n",
      "5320\n"
     ]
    }
   ],
   "source": [
    "df_train = df_train_test[:-760]\n",
    "print(len(df_train))\n",
    "print(len(df_train_test))"
   ]
  },
  {
   "cell_type": "code",
   "execution_count": 27,
   "id": "b85fdfd9-d695-405b-8f60-2cf661d44494",
   "metadata": {},
   "outputs": [],
   "source": [
    "from tensorflow.keras import layers, models\n",
    "\n",
    "model = models.Sequential()\n",
    "model.add(layers.Dense(64, input_dim=6, activation='relu'))\n",
    "model.add(layers.Dense(16, activation='relu'))\n",
    "model.add(layers.Dense(1, activation='linear'))  # Output layer with 4 neurons for 'a', 'b', 'c', 'd'\n",
    "\n",
    "# Compile the model\n",
    "model.compile(loss='mean_absolute_error', optimizer='adam', metrics=['mean_squared_error'])"
   ]
  },
  {
   "cell_type": "code",
   "execution_count": null,
   "id": "8a18d12e-3ab5-4744-bbf2-196cf342179f",
   "metadata": {},
   "outputs": [
    {
     "name": "stdout",
     "output_type": "stream",
     "text": [
      "Epoch 1/30\n",
      "114/114 [==============================] - 1s 6ms/step - loss: 0.9928 - mean_squared_error: 1.5580 - val_loss: 0.9208 - val_mean_squared_error: 1.4434\n",
      "Epoch 2/30\n",
      "114/114 [==============================] - 1s 5ms/step - loss: 0.9423 - mean_squared_error: 1.4244 - val_loss: 0.9870 - val_mean_squared_error: 1.4388\n",
      "Epoch 3/30\n",
      "114/114 [==============================] - 1s 5ms/step - loss: 0.9836 - mean_squared_error: 1.5474 - val_loss: 1.0690 - val_mean_squared_error: 1.9891\n",
      "Epoch 4/30\n",
      "114/114 [==============================] - 1s 5ms/step - loss: 0.9663 - mean_squared_error: 1.4995 - val_loss: 0.9127 - val_mean_squared_error: 1.3221\n",
      "Epoch 5/30\n",
      "114/114 [==============================] - 1s 5ms/step - loss: 0.9651 - mean_squared_error: 1.5111 - val_loss: 0.9058 - val_mean_squared_error: 1.2976\n",
      "Epoch 6/30\n",
      "114/114 [==============================] - 1s 5ms/step - loss: 0.9418 - mean_squared_error: 1.4394 - val_loss: 0.9138 - val_mean_squared_error: 1.4178\n",
      "Epoch 7/30\n",
      "114/114 [==============================] - 1s 5ms/step - loss: 0.9250 - mean_squared_error: 1.4030 - val_loss: 0.8915 - val_mean_squared_error: 1.3141\n",
      "Epoch 8/30\n",
      "114/114 [==============================] - 1s 5ms/step - loss: 0.9584 - mean_squared_error: 1.4863 - val_loss: 0.9149 - val_mean_squared_error: 1.2966\n",
      "Epoch 9/30\n",
      "114/114 [==============================] - 1s 5ms/step - loss: 0.9409 - mean_squared_error: 1.4285 - val_loss: 0.9526 - val_mean_squared_error: 1.3722\n",
      "Epoch 10/30\n",
      "114/114 [==============================] - 1s 5ms/step - loss: 0.9434 - mean_squared_error: 1.4457 - val_loss: 0.9266 - val_mean_squared_error: 1.3100\n",
      "Epoch 11/30\n",
      "114/114 [==============================] - 1s 5ms/step - loss: 0.9443 - mean_squared_error: 1.4525 - val_loss: 1.0153 - val_mean_squared_error: 1.4746\n",
      "Epoch 12/30\n",
      "114/114 [==============================] - 1s 5ms/step - loss: 0.9287 - mean_squared_error: 1.4103 - val_loss: 0.8998 - val_mean_squared_error: 1.3636\n",
      "Epoch 13/30\n",
      "114/114 [==============================] - 1s 5ms/step - loss: 0.9398 - mean_squared_error: 1.4358 - val_loss: 0.8984 - val_mean_squared_error: 1.3264\n",
      "Epoch 14/30\n",
      "114/114 [==============================] - 1s 5ms/step - loss: 0.9355 - mean_squared_error: 1.4266 - val_loss: 0.8926 - val_mean_squared_error: 1.3098\n",
      "Epoch 15/30\n",
      "114/114 [==============================] - 1s 5ms/step - loss: 0.9365 - mean_squared_error: 1.4272 - val_loss: 1.1060 - val_mean_squared_error: 1.7257\n",
      "Epoch 16/30\n",
      "114/114 [==============================] - 1s 5ms/step - loss: 0.9382 - mean_squared_error: 1.4229 - val_loss: 0.8948 - val_mean_squared_error: 1.3074\n",
      "Epoch 17/30\n",
      "114/114 [==============================] - 1s 5ms/step - loss: 0.9350 - mean_squared_error: 1.4330 - val_loss: 0.9403 - val_mean_squared_error: 1.5278\n",
      "Epoch 18/30\n",
      "114/114 [==============================] - 1s 5ms/step - loss: 0.9711 - mean_squared_error: 1.5216 - val_loss: 1.0576 - val_mean_squared_error: 1.9221\n",
      "Epoch 19/30\n",
      "114/114 [==============================] - 1s 5ms/step - loss: 0.9354 - mean_squared_error: 1.4295 - val_loss: 0.8974 - val_mean_squared_error: 1.3213\n",
      "Epoch 20/30\n",
      "114/114 [==============================] - 1s 5ms/step - loss: 0.9420 - mean_squared_error: 1.4323 - val_loss: 0.8912 - val_mean_squared_error: 1.3378\n",
      "Epoch 21/30\n",
      "114/114 [==============================] - 1s 5ms/step - loss: 0.9385 - mean_squared_error: 1.4344 - val_loss: 0.9090 - val_mean_squared_error: 1.3973\n",
      "Epoch 22/30\n",
      " 24/114 [=====>........................] - ETA: 0s - loss: 0.9166 - mean_squared_error: 1.3786"
     ]
    }
   ],
   "source": [
    "model.fit(df_train[[\"Home Team\", \"Away Team\",\n",
    "                    \"Points Obtained Last Season\", \"Points Obtained by Opponent Last Season\",\n",
    "                    \"Goals Scored Last Season\", \"Goals Conceded by Opponent Last Season\"]],\n",
    "          df_train[[\"Goals Scored in Game\"]], epochs=30, validation_split=0.2)"
   ]
  },
  {
   "cell_type": "code",
   "execution_count": 25,
   "id": "86548f0e-a77f-4dd1-8719-586cf59a79a9",
   "metadata": {},
   "outputs": [
    {
     "name": "stdout",
     "output_type": "stream",
     "text": [
      "760\n",
      "24/24 [==============================] - 0s 2ms/step\n"
     ]
    }
   ],
   "source": [
    "df_test = df_train_test[-760:]\n",
    "print(len(df_test))\n",
    "preds = model.predict(df_test[[\"Home Team\", \"Away Team\",\n",
    "                               \"Points Obtained Last Season\", \"Points Obtained by Opponent Last Season\",\n",
    "                               \"Goals Scored Last Season\", \"Goals Conceded by Opponent Last Season\"]])"
   ]
  },
  {
   "cell_type": "code",
   "execution_count": 26,
   "id": "ebc7e2a7-a7af-4ea2-bd68-799d59e75762",
   "metadata": {},
   "outputs": [
    {
     "name": "stdout",
     "output_type": "stream",
     "text": [
      "24/24 [==============================] - 0s 4ms/step - loss: 0.9483 - mean_squared_error: 1.4194\n"
     ]
    },
    {
     "data": {
      "text/plain": [
       "[0.9482631683349609, 1.4194339513778687]"
      ]
     },
     "execution_count": 26,
     "metadata": {},
     "output_type": "execute_result"
    }
   ],
   "source": [
    "model.evaluate(df_test[[\"Home Team\", \"Away Team\",\n",
    "                               \"Points Obtained Last Season\", \"Points Obtained by Opponent Last Season\",\n",
    "                               \"Goals Scored Last Season\", \"Goals Conceded by Opponent Last Season\"]],\n",
    "              df_test[[\"Goals Scored in Game\"]])"
   ]
  },
  {
   "cell_type": "code",
   "execution_count": null,
   "id": "51202097-8109-4f13-8569-aaced0c7e718",
   "metadata": {},
   "outputs": [],
   "source": []
  }
 ],
 "metadata": {
  "kernelspec": {
   "display_name": "Python 3 (ipykernel)",
   "language": "python",
   "name": "python3"
  },
  "language_info": {
   "codemirror_mode": {
    "name": "ipython",
    "version": 3
   },
   "file_extension": ".py",
   "mimetype": "text/x-python",
   "name": "python",
   "nbconvert_exporter": "python",
   "pygments_lexer": "ipython3",
   "version": "3.9.13"
  }
 },
 "nbformat": 4,
 "nbformat_minor": 5
}
