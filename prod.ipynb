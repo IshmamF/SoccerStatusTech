{
 "cells": [
  {
   "cell_type": "code",
   "execution_count": 1,
   "id": "b35c096c-1311-41ff-a1e0-76baa4206c66",
   "metadata": {},
   "outputs": [
    {
     "name": "stderr",
     "output_type": "stream",
     "text": [
      "/Users/muyuanyang/opt/anaconda3/envs/ml/lib/python3.9/site-packages/scipy/__init__.py:146: UserWarning: A NumPy version >=1.16.5 and <1.23.0 is required for this version of SciPy (detected version 1.23.3\n",
      "  warnings.warn(f\"A NumPy version >={np_minversion} and <{np_maxversion}\"\n"
     ]
    }
   ],
   "source": [
    "import pandas as pd\n",
    "import tensorflow as tf\n",
    "\n",
    "df_train_test = pd.DataFrame(columns=[\"Home Team\", \"Away Team\",\n",
    "                                      \"Points Obtained Last Season\", \"Points Obtained by Opponent Last Season\",\n",
    "                                      \"Goals Scored Last Season\", \"Goals Conceded by Opponent Last Season\",\n",
    "                                      \"Points Obtained This Season\", \"Points Obtained by Opponent This Season\",\n",
    "                                      \"Goals Scored This Season\", \"Goals Conceded by Opponent This Season\",\n",
    "                                      \"Goals Scored in Game\"])\n",
    "teams = {}\n",
    "teams_stats = {}\n",
    "for i in range(10, 18):\n",
    "    df = pd.read_csv(\"./archive-3/Datasets/20\" + str(i) + \"-\" + str(i + 1) + \".csv\")\n",
    "    teams[i] = set(df[\"HomeTeam\"].unique())\n",
    "    teams_stats[i] = {}\n",
    "    for team in teams[i]:\n",
    "        teams_stats[i][team] = [0, 0, 0, 0]\n",
    "    for index, row in df.iterrows():\n",
    "        if i > 10 and teams_stats[i][row[\"HomeTeam\"]][3] > 0 and teams_stats[i][row[\"AwayTeam\"]][3]:\n",
    "            row1 = [1, 0, 1, 1, 1, 1, 0, 0, 0, 0, row[\"FTHG\"]]\n",
    "            row2 = [0, 1, 1, 1, 1, 1, 0, 0, 0, 0, row[\"FTAG\"]]\n",
    "            if row[\"HomeTeam\"] in teams[i - 1]:\n",
    "                row1[2] = teams_stats[i - 1][row[\"HomeTeam\"]][0] / 38\n",
    "                row1[4] = teams_stats[i - 1][row[\"HomeTeam\"]][1] / 38\n",
    "                row2[3] = teams_stats[i - 1][row[\"HomeTeam\"]][0] / 38\n",
    "                row2[5] = teams_stats[i - 1][row[\"HomeTeam\"]][2] / 38\n",
    "            if row[\"AwayTeam\"] in teams[i - 1]:\n",
    "                row1[3] = teams_stats[i - 1][row[\"AwayTeam\"]][0] / 38\n",
    "                row1[5] = teams_stats[i - 1][row[\"AwayTeam\"]][2] / 38\n",
    "                row2[2] = teams_stats[i - 1][row[\"AwayTeam\"]][0] / 38\n",
    "                row2[4] = teams_stats[i - 1][row[\"AwayTeam\"]][1] / 38\n",
    "            row1[6] = teams_stats[i][row[\"HomeTeam\"]][0] / teams_stats[i][row[\"HomeTeam\"]][3]\n",
    "            row1[8] = teams_stats[i][row[\"HomeTeam\"]][1] / teams_stats[i][row[\"HomeTeam\"]][3]\n",
    "            row2[7] = teams_stats[i][row[\"HomeTeam\"]][0] / teams_stats[i][row[\"HomeTeam\"]][3]\n",
    "            row2[9] = teams_stats[i][row[\"HomeTeam\"]][2] / teams_stats[i][row[\"HomeTeam\"]][3]\n",
    "            row1[7] = teams_stats[i][row[\"AwayTeam\"]][0] / teams_stats[i][row[\"AwayTeam\"]][3]\n",
    "            row1[9] = teams_stats[i][row[\"AwayTeam\"]][2] / teams_stats[i][row[\"AwayTeam\"]][3]\n",
    "            row2[6] = teams_stats[i][row[\"AwayTeam\"]][0] / teams_stats[i][row[\"AwayTeam\"]][3]\n",
    "            row2[8] = teams_stats[i][row[\"AwayTeam\"]][1] / teams_stats[i][row[\"AwayTeam\"]][3]\n",
    "            df_train_test.loc[-1] = row1\n",
    "            df_train_test.index = df_train_test.index + 1\n",
    "            df_train_test = df_train_test.sort_index()\n",
    "            df_train_test.loc[-1] = row2\n",
    "            df_train_test.index = df_train_test.index + 1\n",
    "            df_train_test = df_train_test.sort_index()\n",
    "        if i < 18:\n",
    "            teams_stats[i][row[\"HomeTeam\"]][3] += 1\n",
    "            teams_stats[i][row[\"AwayTeam\"]][3] += 1\n",
    "            teams_stats[i][row[\"HomeTeam\"]][1] += row[\"FTHG\"]\n",
    "            teams_stats[i][row[\"HomeTeam\"]][2] += row[\"FTAG\"]\n",
    "            teams_stats[i][row[\"AwayTeam\"]][1] += row[\"FTAG\"]\n",
    "            teams_stats[i][row[\"AwayTeam\"]][2] += row[\"FTHG\"]\n",
    "            if row[\"FTHG\"] > row[\"FTAG\"]:\n",
    "                teams_stats[i][row[\"HomeTeam\"]][0] += 3\n",
    "            elif row[\"FTHG\"] == row[\"FTAG\"]:\n",
    "                teams_stats[i][row[\"HomeTeam\"]][0] += 1\n",
    "                teams_stats[i][row[\"AwayTeam\"]][0] += 1\n",
    "            else:\n",
    "                teams_stats[i][row[\"AwayTeam\"]][0] += 3"
   ]
  },
  {
   "cell_type": "code",
   "execution_count": 2,
   "id": "249da086-06d0-4512-bb73-0411596bc1db",
   "metadata": {},
   "outputs": [
    {
     "name": "stdout",
     "output_type": "stream",
     "text": [
      "4418\n",
      "5178\n"
     ]
    }
   ],
   "source": [
    "df_train = df_train_test[:-760]"
   ]
  },
  {
   "cell_type": "code",
   "execution_count": 3,
   "id": "b85fdfd9-d695-405b-8f60-2cf661d44494",
   "metadata": {},
   "outputs": [
    {
     "name": "stdout",
     "output_type": "stream",
     "text": [
      "Metal device set to: Apple M1\n"
     ]
    },
    {
     "name": "stderr",
     "output_type": "stream",
     "text": [
      "2024-02-10 11:41:59.445478: I tensorflow/core/common_runtime/pluggable_device/pluggable_device_factory.cc:306] Could not identify NUMA node of platform GPU ID 0, defaulting to 0. Your kernel may not have been built with NUMA support.\n",
      "2024-02-10 11:41:59.445741: I tensorflow/core/common_runtime/pluggable_device/pluggable_device_factory.cc:272] Created TensorFlow device (/job:localhost/replica:0/task:0/device:GPU:0 with 0 MB memory) -> physical PluggableDevice (device: 0, name: METAL, pci bus id: <undefined>)\n"
     ]
    }
   ],
   "source": [
    "from tensorflow.keras import layers, models, regularizers, optimizers\n",
    "from tensorflow.keras.optimizers.schedules import ExponentialDecay\n",
    "\n",
    "model = models.Sequential()\n",
    "model.add(layers.Dense(32, input_dim=10, activation='relu', kernel_regularizer=regularizers.l2(l=0.1)))\n",
    "model.add(layers.Dropout(0.1))\n",
    "model.add(layers.Dense(32, activation='relu', kernel_regularizer=regularizers.l2(l=0.1)))\n",
    "model.add(layers.Dropout(0.1))\n",
    "model.add(layers.Dense(32, activation='relu', kernel_regularizer=regularizers.l2(l=0.1)))\n",
    "model.add(layers.Dropout(0.25))\n",
    "model.add(layers.Dense(32, activation='relu', kernel_regularizer=regularizers.l2(l=0.1)))\n",
    "model.add(layers.Dense(1, activation='linear'))\n",
    "\n",
    "initial_learning_rate = 0.01\n",
    "lr_schedule = optimizers.schedules.ExponentialDecay(\n",
    "    initial_learning_rate,\n",
    "    decay_steps=10000,\n",
    "    decay_rate=0.9,\n",
    "    staircase=True)\n",
    "optimizer = optimizers.Adam(learning_rate=lr_schedule)\n",
    "\n",
    "model.compile(loss='mean_absolute_error', optimizer=optimizer, metrics=['mean_squared_error'])"
   ]
  },
  {
   "cell_type": "code",
   "execution_count": 4,
   "id": "8a18d12e-3ab5-4744-bbf2-196cf342179f",
   "metadata": {},
   "outputs": [
    {
     "name": "stdout",
     "output_type": "stream",
     "text": [
      "Epoch 1/50\n"
     ]
    },
    {
     "name": "stderr",
     "output_type": "stream",
     "text": [
      "2024-02-10 11:42:12.022119: W tensorflow/core/platform/profile_utils/cpu_utils.cc:128] Failed to get CPU frequency: 0 Hz\n",
      "2024-02-10 11:42:12.337380: I tensorflow/core/grappler/optimizers/custom_graph_optimizer_registry.cc:114] Plugin optimizer for device_type GPU is enabled.\n"
     ]
    },
    {
     "name": "stdout",
     "output_type": "stream",
     "text": [
      "111/111 [==============================] - ETA: 0s - loss: 1.9499 - mean_squared_error: 1.7155"
     ]
    },
    {
     "name": "stderr",
     "output_type": "stream",
     "text": [
      "2024-02-10 11:42:14.779242: I tensorflow/core/grappler/optimizers/custom_graph_optimizer_registry.cc:114] Plugin optimizer for device_type GPU is enabled.\n"
     ]
    },
    {
     "name": "stdout",
     "output_type": "stream",
     "text": [
      "111/111 [==============================] - 3s 24ms/step - loss: 1.9499 - mean_squared_error: 1.7155 - val_loss: 0.9064 - val_mean_squared_error: 1.5993\n",
      "Epoch 2/50\n",
      "111/111 [==============================] - 2s 21ms/step - loss: 0.9462 - mean_squared_error: 1.7141 - val_loss: 0.9198 - val_mean_squared_error: 1.5580\n",
      "Epoch 3/50\n",
      "111/111 [==============================] - 2s 21ms/step - loss: 0.9470 - mean_squared_error: 1.7131 - val_loss: 0.9049 - val_mean_squared_error: 1.6039\n",
      "Epoch 4/50\n",
      "111/111 [==============================] - 2s 22ms/step - loss: 0.9486 - mean_squared_error: 1.7064 - val_loss: 0.9124 - val_mean_squared_error: 1.5795\n",
      "Epoch 5/50\n",
      "111/111 [==============================] - 2s 22ms/step - loss: 0.9452 - mean_squared_error: 1.7117 - val_loss: 0.9094 - val_mean_squared_error: 1.5890\n",
      "Epoch 6/50\n",
      "111/111 [==============================] - 2s 22ms/step - loss: 0.9474 - mean_squared_error: 1.7082 - val_loss: 0.9229 - val_mean_squared_error: 1.6392\n",
      "Epoch 7/50\n",
      "111/111 [==============================] - 2s 22ms/step - loss: 0.9460 - mean_squared_error: 1.7118 - val_loss: 0.9056 - val_mean_squared_error: 1.6102\n",
      "Epoch 8/50\n",
      "111/111 [==============================] - 2s 22ms/step - loss: 0.9434 - mean_squared_error: 1.7140 - val_loss: 0.9094 - val_mean_squared_error: 1.5890\n",
      "Epoch 9/50\n",
      "111/111 [==============================] - 2s 22ms/step - loss: 0.9450 - mean_squared_error: 1.7118 - val_loss: 0.9113 - val_mean_squared_error: 1.6195\n",
      "Epoch 10/50\n",
      "111/111 [==============================] - 2s 22ms/step - loss: 0.9474 - mean_squared_error: 1.7082 - val_loss: 0.9069 - val_mean_squared_error: 1.6123\n",
      "Epoch 11/50\n",
      "111/111 [==============================] - 2s 22ms/step - loss: 0.9464 - mean_squared_error: 1.7117 - val_loss: 0.9162 - val_mean_squared_error: 1.6277\n",
      "Epoch 12/50\n",
      "111/111 [==============================] - 2s 22ms/step - loss: 0.9502 - mean_squared_error: 1.7064 - val_loss: 0.9046 - val_mean_squared_error: 1.6049\n",
      "Epoch 13/50\n",
      "111/111 [==============================] - 2s 22ms/step - loss: 0.9458 - mean_squared_error: 1.7112 - val_loss: 0.9072 - val_mean_squared_error: 1.5961\n",
      "Epoch 14/50\n",
      "111/111 [==============================] - 2s 22ms/step - loss: 0.9441 - mean_squared_error: 1.7125 - val_loss: 0.9064 - val_mean_squared_error: 1.5988\n",
      "Epoch 15/50\n",
      "111/111 [==============================] - 2s 22ms/step - loss: 0.9459 - mean_squared_error: 1.7111 - val_loss: 0.9114 - val_mean_squared_error: 1.5826\n",
      "Epoch 16/50\n",
      "111/111 [==============================] - 2s 22ms/step - loss: 0.9446 - mean_squared_error: 1.7120 - val_loss: 0.9055 - val_mean_squared_error: 1.6019\n",
      "Epoch 17/50\n",
      "111/111 [==============================] - 2s 22ms/step - loss: 0.9441 - mean_squared_error: 1.7139 - val_loss: 0.9070 - val_mean_squared_error: 1.5969\n",
      "Epoch 18/50\n",
      "111/111 [==============================] - 2s 22ms/step - loss: 0.9447 - mean_squared_error: 1.7097 - val_loss: 0.9089 - val_mean_squared_error: 1.5906\n",
      "Epoch 19/50\n",
      "111/111 [==============================] - 2s 22ms/step - loss: 0.9469 - mean_squared_error: 1.7132 - val_loss: 0.9088 - val_mean_squared_error: 1.6154\n",
      "Epoch 20/50\n",
      "111/111 [==============================] - 2s 22ms/step - loss: 0.9451 - mean_squared_error: 1.7098 - val_loss: 0.9043 - val_mean_squared_error: 1.6082\n",
      "Epoch 21/50\n",
      "111/111 [==============================] - 2s 22ms/step - loss: 0.9440 - mean_squared_error: 1.7125 - val_loss: 0.9053 - val_mean_squared_error: 1.6097\n",
      "Epoch 22/50\n",
      "111/111 [==============================] - 2s 22ms/step - loss: 0.9437 - mean_squared_error: 1.7146 - val_loss: 0.9093 - val_mean_squared_error: 1.5892\n",
      "Epoch 23/50\n",
      "111/111 [==============================] - 3s 23ms/step - loss: 0.9460 - mean_squared_error: 1.7107 - val_loss: 0.9112 - val_mean_squared_error: 1.5832\n",
      "Epoch 24/50\n",
      "111/111 [==============================] - 2s 22ms/step - loss: 0.9440 - mean_squared_error: 1.7113 - val_loss: 0.9067 - val_mean_squared_error: 1.6120\n",
      "Epoch 25/50\n",
      "111/111 [==============================] - 2s 22ms/step - loss: 0.9471 - mean_squared_error: 1.7101 - val_loss: 0.9067 - val_mean_squared_error: 1.5977\n",
      "Epoch 26/50\n",
      "111/111 [==============================] - 3s 24ms/step - loss: 0.9445 - mean_squared_error: 1.7116 - val_loss: 0.9053 - val_mean_squared_error: 1.6025\n",
      "Epoch 27/50\n",
      "111/111 [==============================] - 2s 22ms/step - loss: 0.9440 - mean_squared_error: 1.7125 - val_loss: 0.9117 - val_mean_squared_error: 1.5818\n",
      "Epoch 28/50\n",
      "111/111 [==============================] - 2s 22ms/step - loss: 0.9460 - mean_squared_error: 1.7108 - val_loss: 0.9067 - val_mean_squared_error: 1.5979\n",
      "Epoch 29/50\n",
      "111/111 [==============================] - 3s 25ms/step - loss: 0.9438 - mean_squared_error: 1.7141 - val_loss: 0.9084 - val_mean_squared_error: 1.5921\n",
      "Epoch 30/50\n",
      "111/111 [==============================] - 3s 23ms/step - loss: 0.9440 - mean_squared_error: 1.7137 - val_loss: 0.9046 - val_mean_squared_error: 1.6047\n",
      "Epoch 31/50\n",
      "111/111 [==============================] - 2s 22ms/step - loss: 0.9427 - mean_squared_error: 1.7173 - val_loss: 0.9054 - val_mean_squared_error: 1.6023\n",
      "Epoch 32/50\n",
      "111/111 [==============================] - 2s 21ms/step - loss: 0.9429 - mean_squared_error: 1.7128 - val_loss: 0.9057 - val_mean_squared_error: 1.6012\n",
      "Epoch 33/50\n",
      "111/111 [==============================] - 2s 21ms/step - loss: 0.9430 - mean_squared_error: 1.7144 - val_loss: 0.9067 - val_mean_squared_error: 1.6120\n",
      "Epoch 34/50\n",
      "111/111 [==============================] - 2s 21ms/step - loss: 0.9441 - mean_squared_error: 1.7131 - val_loss: 0.9088 - val_mean_squared_error: 1.6154\n",
      "Epoch 35/50\n",
      "111/111 [==============================] - 2s 21ms/step - loss: 0.9438 - mean_squared_error: 1.7142 - val_loss: 0.9052 - val_mean_squared_error: 1.6030\n",
      "Epoch 36/50\n",
      "111/111 [==============================] - 2s 21ms/step - loss: 0.9452 - mean_squared_error: 1.7146 - val_loss: 0.9151 - val_mean_squared_error: 1.6259\n",
      "Epoch 37/50\n",
      "111/111 [==============================] - 2s 22ms/step - loss: 0.9447 - mean_squared_error: 1.7133 - val_loss: 0.9115 - val_mean_squared_error: 1.6198\n",
      "Epoch 38/50\n",
      "111/111 [==============================] - 2s 22ms/step - loss: 0.9437 - mean_squared_error: 1.7119 - val_loss: 0.9050 - val_mean_squared_error: 1.6036\n",
      "Epoch 39/50\n",
      "111/111 [==============================] - 2s 21ms/step - loss: 0.9458 - mean_squared_error: 1.7118 - val_loss: 0.9135 - val_mean_squared_error: 1.6231\n",
      "Epoch 40/50\n",
      "111/111 [==============================] - 2s 21ms/step - loss: 0.9462 - mean_squared_error: 1.7126 - val_loss: 0.9039 - val_mean_squared_error: 1.6075\n",
      "Epoch 41/50\n",
      "111/111 [==============================] - 2s 21ms/step - loss: 0.9424 - mean_squared_error: 1.7167 - val_loss: 0.9105 - val_mean_squared_error: 1.6181\n",
      "Epoch 42/50\n",
      "111/111 [==============================] - 2s 22ms/step - loss: 0.9442 - mean_squared_error: 1.7129 - val_loss: 0.9058 - val_mean_squared_error: 1.6008\n",
      "Epoch 43/50\n",
      "111/111 [==============================] - 2s 22ms/step - loss: 0.9431 - mean_squared_error: 1.7147 - val_loss: 0.9045 - val_mean_squared_error: 1.6054\n",
      "Epoch 44/50\n",
      "111/111 [==============================] - 2s 21ms/step - loss: 0.9425 - mean_squared_error: 1.7152 - val_loss: 0.9117 - val_mean_squared_error: 1.5817\n",
      "Epoch 45/50\n",
      "111/111 [==============================] - 2s 21ms/step - loss: 0.9456 - mean_squared_error: 1.7112 - val_loss: 0.9080 - val_mean_squared_error: 1.6142\n",
      "Epoch 46/50\n",
      "111/111 [==============================] - 2s 21ms/step - loss: 0.9425 - mean_squared_error: 1.7148 - val_loss: 0.9048 - val_mean_squared_error: 1.6042\n",
      "Epoch 47/50\n",
      "111/111 [==============================] - 2s 21ms/step - loss: 0.9423 - mean_squared_error: 1.7159 - val_loss: 0.9051 - val_mean_squared_error: 1.6030\n",
      "Epoch 48/50\n",
      "111/111 [==============================] - 2s 21ms/step - loss: 0.9426 - mean_squared_error: 1.7154 - val_loss: 0.9058 - val_mean_squared_error: 1.6008\n",
      "Epoch 49/50\n",
      "111/111 [==============================] - 2s 21ms/step - loss: 0.9428 - mean_squared_error: 1.7131 - val_loss: 0.9048 - val_mean_squared_error: 1.6042\n",
      "Epoch 50/50\n",
      "111/111 [==============================] - 2s 21ms/step - loss: 0.9425 - mean_squared_error: 1.7154 - val_loss: 0.9055 - val_mean_squared_error: 1.6101\n"
     ]
    },
    {
     "data": {
      "text/plain": [
       "<keras.callbacks.History at 0x169e57760>"
      ]
     },
     "execution_count": 4,
     "metadata": {},
     "output_type": "execute_result"
    }
   ],
   "source": [
    "model.fit(df_train[[\"Home Team\", \"Away Team\",\n",
    "                    \"Points Obtained Last Season\", \"Points Obtained by Opponent Last Season\",\n",
    "                    \"Goals Scored Last Season\", \"Goals Conceded by Opponent Last Season\",\n",
    "                    \"Points Obtained This Season\", \"Points Obtained by Opponent This Season\",\n",
    "                    \"Goals Scored This Season\", \"Goals Conceded by Opponent This Season\"]],\n",
    "          df_train[[\"Goals Scored in Game\"]], epochs=50, validation_split=0.2)"
   ]
  },
  {
   "cell_type": "code",
   "execution_count": 5,
   "id": "86548f0e-a77f-4dd1-8719-586cf59a79a9",
   "metadata": {},
   "outputs": [
    {
     "name": "stdout",
     "output_type": "stream",
     "text": [
      "760\n",
      "24/24 [==============================] - 0s 3ms/step\n"
     ]
    },
    {
     "name": "stderr",
     "output_type": "stream",
     "text": [
      "2024-02-10 11:45:11.524666: I tensorflow/core/grappler/optimizers/custom_graph_optimizer_registry.cc:114] Plugin optimizer for device_type GPU is enabled.\n"
     ]
    }
   ],
   "source": [
    "df_test = df_train_test[-760:]\n",
    "preds = model.predict(df_test[[\"Home Team\", \"Away Team\",\n",
    "                               \"Points Obtained Last Season\", \"Points Obtained by Opponent Last Season\",\n",
    "                               \"Goals Scored Last Season\", \"Goals Conceded by Opponent Last Season\",\n",
    "                               \"Points Obtained This Season\", \"Points Obtained by Opponent This Season\",\n",
    "                               \"Goals Scored This Season\", \"Goals Conceded by Opponent This Season\"]])"
   ]
  },
  {
   "cell_type": "code",
   "execution_count": 6,
   "id": "ebc7e2a7-a7af-4ea2-bd68-799d59e75762",
   "metadata": {},
   "outputs": [
    {
     "name": "stdout",
     "output_type": "stream",
     "text": [
      "24/24 [==============================] - 0s 16ms/step - loss: 0.9491 - mean_squared_error: 1.8110\n"
     ]
    },
    {
     "data": {
      "text/plain": [
       "[0.9490837454795837, 1.81095290184021]"
      ]
     },
     "execution_count": 6,
     "metadata": {},
     "output_type": "execute_result"
    }
   ],
   "source": [
    "model.evaluate(df_test[[\"Home Team\", \"Away Team\",\n",
    "                               \"Points Obtained Last Season\", \"Points Obtained by Opponent Last Season\",\n",
    "                               \"Goals Scored Last Season\", \"Goals Conceded by Opponent Last Season\",\n",
    "                               \"Points Obtained This Season\", \"Points Obtained by Opponent This Season\",\n",
    "                               \"Goals Scored This Season\", \"Goals Conceded by Opponent This Season\"]],\n",
    "              df_test[[\"Goals Scored in Game\"]])"
   ]
  },
  {
   "cell_type": "code",
   "execution_count": null,
   "id": "51202097-8109-4f13-8569-aaced0c7e718",
   "metadata": {},
   "outputs": [],
   "source": []
  }
 ],
 "metadata": {
  "kernelspec": {
   "display_name": "Python 3 (ipykernel)",
   "language": "python",
   "name": "python3"
  },
  "language_info": {
   "codemirror_mode": {
    "name": "ipython",
    "version": 3
   },
   "file_extension": ".py",
   "mimetype": "text/x-python",
   "name": "python",
   "nbconvert_exporter": "python",
   "pygments_lexer": "ipython3",
   "version": "3.9.13"
  }
 },
 "nbformat": 4,
 "nbformat_minor": 5
}
