{
 "cells": [
  {
   "cell_type": "code",
   "execution_count": 5,
   "id": "b35c096c-1311-41ff-a1e0-76baa4206c66",
   "metadata": {},
   "outputs": [
    {
     "name": "stdout",
     "output_type": "stream",
     "text": [
      "./archive-3/Datasets/2010-11.csv\n",
      "./archive-3/Datasets/2011-12.csv\n",
      "./archive-3/Datasets/2012-13.csv\n",
      "./archive-3/Datasets/2013-14.csv\n",
      "./archive-3/Datasets/2014-15.csv\n",
      "./archive-3/Datasets/2015-16.csv\n",
      "./archive-3/Datasets/2016-17.csv\n",
      "./archive-3/Datasets/2017-18.csv\n",
      "./archive-3/Datasets/2018-19.csv\n",
      "./archive-3/Datasets/2019-20.csv\n"
     ]
    }
   ],
   "source": [
    "import pandas as pd\n",
    "import tensorflow as tf\n",
    "\n",
    "dict_team_stats = {}\n",
    "for i in range(10, 20):\n",
    "    print(\"./archive-3/Datasets/20\" + str(i) + \"-\" + str(i + 1) + \".csv\")\n",
    "    #df = pd.read_csv(\"./archive-3/Datasets/2000-01.csv\")\n",
    "    df = pd.read_csv(\"./archive-3/Datasets/20\" + str(i) + \"-\" + str(i + 1) + \".csv\")\n"
   ]
  },
  {
   "cell_type": "code",
   "execution_count": null,
   "id": "547b240d-84b1-4a60-9847-63956690bc73",
   "metadata": {},
   "outputs": [],
   "source": []
  }
 ],
 "metadata": {
  "kernelspec": {
   "display_name": "Python 3 (ipykernel)",
   "language": "python",
   "name": "python3"
  },
  "language_info": {
   "codemirror_mode": {
    "name": "ipython",
    "version": 3
   },
   "file_extension": ".py",
   "mimetype": "text/x-python",
   "name": "python",
   "nbconvert_exporter": "python",
   "pygments_lexer": "ipython3",
   "version": "3.9.13"
  }
 },
 "nbformat": 4,
 "nbformat_minor": 5
}
